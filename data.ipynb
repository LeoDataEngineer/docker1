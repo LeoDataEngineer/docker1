{
 "cells": [
  {
   "cell_type": "code",
   "execution_count": 3,
   "metadata": {},
   "outputs": [],
   "source": [
    "import pandas as pd\n"
   ]
  },
  {
   "cell_type": "code",
   "execution_count": 4,
   "metadata": {},
   "outputs": [],
   "source": [
    "df = pd.read_csv(\"final.csv\")"
   ]
  },
  {
   "cell_type": "code",
   "execution_count": 5,
   "metadata": {},
   "outputs": [
    {
     "data": {
      "text/html": [
       "<div>\n",
       "<style scoped>\n",
       "    .dataframe tbody tr th:only-of-type {\n",
       "        vertical-align: middle;\n",
       "    }\n",
       "\n",
       "    .dataframe tbody tr th {\n",
       "        vertical-align: top;\n",
       "    }\n",
       "\n",
       "    .dataframe thead th {\n",
       "        text-align: right;\n",
       "    }\n",
       "</style>\n",
       "<table border=\"1\" class=\"dataframe\">\n",
       "  <thead>\n",
       "    <tr style=\"text-align: right;\">\n",
       "      <th></th>\n",
       "      <th>type</th>\n",
       "      <th>title</th>\n",
       "      <th>director</th>\n",
       "      <th>cast</th>\n",
       "      <th>country</th>\n",
       "      <th>date_added</th>\n",
       "      <th>release_year</th>\n",
       "      <th>rating</th>\n",
       "      <th>listed_in</th>\n",
       "      <th>description</th>\n",
       "      <th>Plataforma</th>\n",
       "      <th>seasson_quantity</th>\n",
       "      <th>movie_duration</th>\n",
       "    </tr>\n",
       "  </thead>\n",
       "  <tbody>\n",
       "    <tr>\n",
       "      <th>16698</th>\n",
       "      <td>TV Show</td>\n",
       "      <td>Patton Oswalt: I Love Everything</td>\n",
       "      <td>Marcus Raboy</td>\n",
       "      <td>Patton Oswalt, Bob Rubin</td>\n",
       "      <td>United States</td>\n",
       "      <td>May 19, 2020</td>\n",
       "      <td>2020</td>\n",
       "      <td>TV-MA</td>\n",
       "      <td>Stand-Up Comedy &amp; Talk Shows, TV Comedies</td>\n",
       "      <td>Turning 50. Finding love again. Buying a house...</td>\n",
       "      <td>netflix</td>\n",
       "      <td>0</td>\n",
       "      <td>0</td>\n",
       "    </tr>\n",
       "    <tr>\n",
       "      <th>16518</th>\n",
       "      <td>TV Show</td>\n",
       "      <td>Dark</td>\n",
       "      <td>Sin dato</td>\n",
       "      <td>Louis Hofmann, Oliver Masucci, Jördis Triebel,...</td>\n",
       "      <td>Germany, United States</td>\n",
       "      <td>June 27, 2020</td>\n",
       "      <td>2020</td>\n",
       "      <td>TV-MA</td>\n",
       "      <td>Crime TV Shows, International TV Shows, TV Dramas</td>\n",
       "      <td>A missing child sets four families on a franti...</td>\n",
       "      <td>netflix</td>\n",
       "      <td>3</td>\n",
       "      <td>0</td>\n",
       "    </tr>\n",
       "    <tr>\n",
       "      <th>22608</th>\n",
       "      <td>Movie</td>\n",
       "      <td>The Mayo Clinic</td>\n",
       "      <td>Ken Burns, Christopher Loren Ewers, Erik Ewers</td>\n",
       "      <td>Peter Coyote</td>\n",
       "      <td>United States</td>\n",
       "      <td>April 19, 2019</td>\n",
       "      <td>2018</td>\n",
       "      <td>TV-14</td>\n",
       "      <td>Documentaries</td>\n",
       "      <td>A look at how a world-renowned medical institu...</td>\n",
       "      <td>netflix</td>\n",
       "      <td>0</td>\n",
       "      <td>116</td>\n",
       "    </tr>\n",
       "    <tr>\n",
       "      <th>6567</th>\n",
       "      <td>TV Show</td>\n",
       "      <td>Hostel Daze (4K UHD)</td>\n",
       "      <td>Sin dato</td>\n",
       "      <td>Adarsh Gourav, Luv Vispute, Shubham Gaur, Nikh...</td>\n",
       "      <td>Sin dato</td>\n",
       "      <td>July 17, 2021</td>\n",
       "      <td>2021</td>\n",
       "      <td>16+</td>\n",
       "      <td>Comedy, Drama</td>\n",
       "      <td>6 friends enter their second year of college a...</td>\n",
       "      <td>amazon</td>\n",
       "      <td>2</td>\n",
       "      <td>0</td>\n",
       "    </tr>\n",
       "    <tr>\n",
       "      <th>8835</th>\n",
       "      <td>Movie</td>\n",
       "      <td>Military State</td>\n",
       "      <td>Iain Carson</td>\n",
       "      <td>Ethan McDowell, Morgan Obenreder, Joshua Marbl...</td>\n",
       "      <td>Sin dato</td>\n",
       "      <td>Sin dato</td>\n",
       "      <td>2017</td>\n",
       "      <td>16+</td>\n",
       "      <td>Action, Science Fiction</td>\n",
       "      <td>America declares a State Of Emergency after te...</td>\n",
       "      <td>amazon</td>\n",
       "      <td>0</td>\n",
       "      <td>92</td>\n",
       "    </tr>\n",
       "  </tbody>\n",
       "</table>\n",
       "</div>"
      ],
      "text/plain": [
       "          type                             title   \n",
       "16698  TV Show  Patton Oswalt: I Love Everything  \\\n",
       "16518  TV Show                              Dark   \n",
       "22608    Movie                   The Mayo Clinic   \n",
       "6567   TV Show              Hostel Daze (4K UHD)   \n",
       "8835     Movie                    Military State   \n",
       "\n",
       "                                             director   \n",
       "16698                                    Marcus Raboy  \\\n",
       "16518                                        Sin dato   \n",
       "22608  Ken Burns, Christopher Loren Ewers, Erik Ewers   \n",
       "6567                                         Sin dato   \n",
       "8835                                      Iain Carson   \n",
       "\n",
       "                                                    cast   \n",
       "16698                           Patton Oswalt, Bob Rubin  \\\n",
       "16518  Louis Hofmann, Oliver Masucci, Jördis Triebel,...   \n",
       "22608                                       Peter Coyote   \n",
       "6567   Adarsh Gourav, Luv Vispute, Shubham Gaur, Nikh...   \n",
       "8835   Ethan McDowell, Morgan Obenreder, Joshua Marbl...   \n",
       "\n",
       "                      country      date_added  release_year rating   \n",
       "16698           United States    May 19, 2020          2020  TV-MA  \\\n",
       "16518  Germany, United States   June 27, 2020          2020  TV-MA   \n",
       "22608           United States  April 19, 2019          2018  TV-14   \n",
       "6567                 Sin dato   July 17, 2021          2021    16+   \n",
       "8835                 Sin dato        Sin dato          2017    16+   \n",
       "\n",
       "                                               listed_in   \n",
       "16698          Stand-Up Comedy & Talk Shows, TV Comedies  \\\n",
       "16518  Crime TV Shows, International TV Shows, TV Dramas   \n",
       "22608                                      Documentaries   \n",
       "6567                                       Comedy, Drama   \n",
       "8835                             Action, Science Fiction   \n",
       "\n",
       "                                             description Plataforma   \n",
       "16698  Turning 50. Finding love again. Buying a house...    netflix  \\\n",
       "16518  A missing child sets four families on a franti...    netflix   \n",
       "22608  A look at how a world-renowned medical institu...    netflix   \n",
       "6567   6 friends enter their second year of college a...     amazon   \n",
       "8835   America declares a State Of Emergency after te...     amazon   \n",
       "\n",
       "       seasson_quantity  movie_duration  \n",
       "16698                 0               0  \n",
       "16518                 3               0  \n",
       "22608                 0             116  \n",
       "6567                  2               0  \n",
       "8835                  0              92  "
      ]
     },
     "execution_count": 5,
     "metadata": {},
     "output_type": "execute_result"
    }
   ],
   "source": [
    "df.sample(5)"
   ]
  },
  {
   "cell_type": "code",
   "execution_count": 7,
   "metadata": {},
   "outputs": [],
   "source": [
    "def get_max_duration(year: int, platform: str, tipo: str):\n",
    "    df3 = df[(df['release_year'] == year) & (df['Plataforma'] == platform)]\n",
    "    if tipo == 'min':\n",
    "        titulo = df3.loc[df3.movie_duration.idxmax()]['title']\n",
    "    else:\n",
    "        titulo = df3.loc[df3.seasson_quantity.idxmax()]['title']\n",
    "    return {'titulo': titulo}"
   ]
  },
  {
   "cell_type": "code",
   "execution_count": 8,
   "metadata": {},
   "outputs": [
    {
     "data": {
      "text/plain": [
       "{'titulo': 'Black Mirror: Bandersnatch'}"
      ]
     },
     "execution_count": 8,
     "metadata": {},
     "output_type": "execute_result"
    }
   ],
   "source": [
    "get_max_duration(2018,\"netflix\",\"min\")"
   ]
  },
  {
   "cell_type": "code",
   "execution_count": 9,
   "metadata": {},
   "outputs": [],
   "source": [
    "def get_count_plataform( plataforma:str ):\n",
    "    resultado1=((df['Plataforma']==plataforma) & (df['type'].str.contains('Movie'))).sum()\n",
    "    resultado2=((df['Plataforma']==plataforma) & (df['type'].str.contains('TV Show'))).sum()\n",
    "    return {\n",
    "        'Plataforma': plataforma,\n",
    "        'Movie': resultado1,\n",
    "        'TV Show': resultado2\n",
    "    }"
   ]
  },
  {
   "cell_type": "code",
   "execution_count": 10,
   "metadata": {},
   "outputs": [
    {
     "data": {
      "text/plain": [
       "{'Plataforma': 'netflix', 'Movie': 6131, 'TV Show': 2676}"
      ]
     },
     "execution_count": 10,
     "metadata": {},
     "output_type": "execute_result"
    }
   ],
   "source": [
    "get_count_plataform(\"netflix\")"
   ]
  },
  {
   "cell_type": "code",
   "execution_count": 11,
   "metadata": {},
   "outputs": [],
   "source": [
    "def get_listedin(género:str):\n",
    "    a=((df['listed_in'].str.contains(género)) & (df['Plataforma']=='amazon')).sum()\n",
    "    b=((df['listed_in'].str.contains(género)) & (df['Plataforma']=='disney')).sum()\n",
    "    c=((df['listed_in'].str.contains(género)) & (df['Plataforma']=='hulu')).sum()\n",
    "    d=((df['listed_in'].str.contains(género)) & (df['Plataforma']=='netflix')).sum()\n",
    "    lista=[a,b,c,d]\n",
    "    resultado=max(lista)\n",
    "    if a == resultado:\n",
    "        plataforma='Amazon'\n",
    "    if b == resultado:\n",
    "        plataforma='Disney'\n",
    "    if c == resultado:\n",
    "        plataforma='Hulu'\n",
    "    if d == resultado:\n",
    "        plataforma='Netflix'\n",
    "    return ( plataforma+'    '+str(resultado))"
   ]
  },
  {
   "cell_type": "code",
   "execution_count": 12,
   "metadata": {},
   "outputs": [
    {
     "data": {
      "text/plain": [
       "'Amazon    2099'"
      ]
     },
     "execution_count": 12,
     "metadata": {},
     "output_type": "execute_result"
    }
   ],
   "source": [
    "get_listedin(\"Comedy\")"
   ]
  },
  {
   "cell_type": "code",
   "execution_count": 16,
   "metadata": {},
   "outputs": [],
   "source": [
    "def get_actor(platform:str, year:int):\n",
    "    df2=df[(df['Plataforma']==platform) & (df['release_year']==year)]\n",
    "    for i in df2['cast']:\n",
    "        if i != 'Sin dato':\n",
    "            i=i.replace(', ', ',')\n",
    "        else:\n",
    "            continue\n",
    "    lista=[]\n",
    "    for i in df2['cast']:\n",
    "        if i != 'Sin dato':\n",
    "            s=i.split(',')\n",
    "            for j in range(len(s)):             \n",
    "                if s[j] not in lista:\n",
    "                    lista.append(s[j])\n",
    "                else:\n",
    "                    continue\n",
    "        else:\n",
    "            continue\n",
    "    lista=list(set(lista))\n",
    "    c=0\n",
    "    dicc={}\n",
    "    for i in lista:\n",
    "        c=0\n",
    "        for j in df2['cast']:\n",
    "            if i in j.split(','):\n",
    "                c+=1\n",
    "        dicc[i]=c\n",
    "    return (max(dicc, key=dicc.get), int(dicc[max(dicc, key=dicc.get)]))"
   ]
  },
  {
   "cell_type": "code",
   "execution_count": 17,
   "metadata": {},
   "outputs": [
    {
     "data": {
      "text/plain": [
       "(' Andrea Libman', 8)"
      ]
     },
     "execution_count": 17,
     "metadata": {},
     "output_type": "execute_result"
    }
   ],
   "source": [
    "get_actor(\"netflix\",2018)"
   ]
  }
 ],
 "metadata": {
  "kernelspec": {
   "display_name": "Python 3",
   "language": "python",
   "name": "python3"
  },
  "language_info": {
   "codemirror_mode": {
    "name": "ipython",
    "version": 3
   },
   "file_extension": ".py",
   "mimetype": "text/x-python",
   "name": "python",
   "nbconvert_exporter": "python",
   "pygments_lexer": "ipython3",
   "version": "3.11.3"
  },
  "orig_nbformat": 4
 },
 "nbformat": 4,
 "nbformat_minor": 2
}
